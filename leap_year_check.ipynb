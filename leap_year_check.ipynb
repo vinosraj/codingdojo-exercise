{
  "nbformat": 4,
  "nbformat_minor": 0,
  "metadata": {
    "colab": {
      "name": "leap year check",
      "provenance": [],
      "authorship_tag": "ABX9TyNZoO3tTtRKR8IllOuAoEAA",
      "include_colab_link": true
    },
    "kernelspec": {
      "name": "python3",
      "display_name": "Python 3"
    },
    "language_info": {
      "name": "python"
    }
  },
  "cells": [
    {
      "cell_type": "markdown",
      "metadata": {
        "id": "view-in-github",
        "colab_type": "text"
      },
      "source": [
        "<a href=\"https://colab.research.google.com/github/vinosraj/codingdojo-exercise/blob/main/leap_year_check.ipynb\" target=\"_parent\"><img src=\"https://colab.research.google.com/assets/colab-badge.svg\" alt=\"Open In Colab\"/></a>"
      ]
    },
    {
      "cell_type": "code",
      "source": [
        "month_days = [0,31,28,31,30,31,30,31,31,30,31,30,31]\n",
        "\n",
        "# print(len(month_days))\n",
        "\n",
        "def is_leap(year):\n",
        "  \"\"\" return true for leap year, false for none leap year\"\"\"\n",
        "  return year %4 == 0 and (year % 100 !=0 or year % 400 == 0)\n",
        "\n",
        "def days_in_month(year,month):\n",
        "  \"\"\" check month\"\"\"\n",
        "\n",
        "#check month is valid between 1 and 12\n",
        "  if not 1 <= month <= 12:\n",
        "    return 'Invalid month'\n",
        "\n",
        "# check month is 2 and leap from function \\\\is_leap\n",
        "\n",
        "  if month ==2 and is_leap(year):\n",
        "    return 29\n",
        "\n",
        "  return month_days[month]\n",
        "\n",
        "input_yr = input ('Enter a year: ')\n",
        "input_mnt= input ('Enter the month as a number: (eg 2 for February)  ')\n",
        "\n",
        "input_yr=int(input_yr)\n",
        "input_mnt=int(input_mnt)\n",
        "\n",
        "if is_leap(input_yr):\n",
        "   print (f'{input_yr} was a leap year')\n",
        "else:\n",
        "   print (f'{input_yr} was not a leap year')\n",
        "\n",
        "print (f'Number of days in this month for the yeR {input_yr} was {days_in_month(input_yr,input_mnt)}')\n",
        "# print (days_in_month(input_yr,input_mnt))\n",
        "\n",
        "\n"
      ],
      "metadata": {
        "colab": {
          "base_uri": "https://localhost:8080/"
        },
        "id": "znSqYetCSp6m",
        "outputId": "02d2c3b8-48d6-48c0-adf8-32696558762c"
      },
      "execution_count": null,
      "outputs": [
        {
          "output_type": "stream",
          "name": "stdout",
          "text": [
            "Enter a year: 1508\n",
            "Enter the month as a number: (eg 2 for February)  2\n",
            "1508 was a leap year\n",
            "Number of days in this month for the 1508 was 29\n",
            "29\n"
          ]
        }
      ]
    }
  ]
}