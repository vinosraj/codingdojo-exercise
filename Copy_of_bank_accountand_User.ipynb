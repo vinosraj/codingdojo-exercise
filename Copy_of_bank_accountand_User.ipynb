{
  "nbformat": 4,
  "nbformat_minor": 0,
  "metadata": {
    "colab": {
      "name": "Copy of bank_accountand_User.ipynb",
      "provenance": [],
      "collapsed_sections": [],
      "include_colab_link": true
    },
    "kernelspec": {
      "name": "python3",
      "display_name": "Python 3"
    },
    "language_info": {
      "name": "python"
    }
  },
  "cells": [
    {
      "cell_type": "markdown",
      "metadata": {
        "id": "view-in-github",
        "colab_type": "text"
      },
      "source": [
        "<a href=\"https://colab.research.google.com/github/vinosraj/codingdojo-exercise/blob/main/Copy_of_bank_accountand_User.ipynb\" target=\"_parent\"><img src=\"https://colab.research.google.com/assets/colab-badge.svg\" alt=\"Open In Colab\"/></a>"
      ]
    },
    {
      "cell_type": "code",
      "source": [
        ""
      ],
      "metadata": {
        "id": "s5YO3ZMoRc74"
      },
      "execution_count": null,
      "outputs": []
    },
    {
      "cell_type": "code",
      "execution_count": 1,
      "metadata": {
        "colab": {
          "base_uri": "https://localhost:8080/"
        },
        "outputId": "220e29ea-b91c-4ba3-e6f0-921962159407",
        "id": "4kv4yZUuRe6a"
      },
      "outputs": [
        {
          "output_type": "stream",
          "name": "stdout",
          "text": [
            "Tim has a balance of $350\n",
            "Bill has a balance of $200\n",
            "Jill has a balance of $50\n"
          ]
        }
      ],
      "source": [
        "class BankAccount:\n",
        "\tdef __init__(self,int_rate,account_balance): \n",
        "\n",
        "\t\tself.int_rate = 0.02\n",
        "\t\tself.account_balance = 0\n",
        "    \t\t\n",
        "\tdef withdraw(self, amount):\n",
        "\t\tself.account_balance -= amount\n",
        "\n",
        "\t\t\n",
        "\tdef deposit(self, amount):\n",
        "\t\tself.account_balance += amount\n",
        "\n",
        "\n",
        "\n",
        "\tdef display_account_info(self):\n",
        "\t\tprint(f' balance : ${self.account_balance}')\n",
        "\n",
        "\t\t\n",
        "\tdef yield_interest(self):\n",
        "\t\tself.account_balance = self.account_balance + (self.account_balance * self.int_rate)\n",
        "\n",
        "\n",
        "class User:\n",
        "    def __init__(self, username, email_address):\n",
        "        self.name = username\t\t\t\n",
        "        self.email = email_address\t\t\n",
        "        self.account = BankAccount(int_rate =0.02, account_balance =0)\t\t# the account balance set to $0\n",
        "\n",
        "\n",
        "      # removing the withdrawal method\n",
        "  \n",
        "    def make_withdrawal(self, amount):\n",
        "      self.account.withdraw(amount)\n",
        "\n",
        "        # adding the deposit method\n",
        "\n",
        "    def make_deposit(self, amount):\n",
        "        self.account.deposit(amount)\n",
        "\n",
        "\n",
        "\n",
        "    #   # tranfering amount\n",
        "    # def make_transfer(self, other_user, amount):\n",
        "    #   other_user.account_balance += amount\n",
        "    #   self.account_balance -= amount\n",
        "    #   print(f'{self.name} transfered ${amount} to {other_user.name}')\n",
        "\n",
        "\n",
        "\n",
        "\n",
        "\n",
        "tim = User(\"Tim\", \"tim@gmail.com\")\n",
        "bill = User(\"Bill\", \"bill@gmail.com\")\n",
        "jill = User(\"Jill\", \"jill@gmail.com\")\n",
        "\t\n",
        "\n",
        "tim.make_deposit(400)\n",
        "bill.make_deposit(200)\n",
        "jill.make_deposit(50)\n",
        "\n",
        "tim.make_withdrawal(50)\n",
        "\n",
        "\n",
        "\n",
        "#tim.make_transfer(jill,50)\n",
        "\n",
        "\n",
        "\n",
        "# print(f'{tim.name} has a balance of ${tim.account_balance}')\n",
        "# print(f'{bill.name} has a balance of ${bill.account_balance}')\n",
        "# print(f'{jill.name} has a balance of ${jill.account_balance}')\n",
        "print(f'{tim.name} has a balance of ${tim.account.account_balance}')\n",
        "print(f'{bill.name} has a balance of ${bill.account.account_balance}')\n",
        "print(f'{jill.name} has a balance of ${jill.account.account_balance}')\n",
        "\n"
      ]
    },
    {
      "cell_type": "code",
      "source": [
        "from google.colab import drive\n",
        "drive.mount('/content/drive')"
      ],
      "metadata": {
        "id": "C2qwcPySNWR3"
      },
      "execution_count": null,
      "outputs": []
    }
  ]
}