{
  "nbformat": 4,
  "nbformat_minor": 0,
  "metadata": {
    "colab": {
      "name": "Numpy_exercise2.ipynb",
      "provenance": [],
      "collapsed_sections": [],
      "authorship_tag": "ABX9TyOmCRKIXGd3wkBKD2/uTwep",
      "include_colab_link": true
    },
    "kernelspec": {
      "name": "python3",
      "display_name": "Python 3"
    },
    "language_info": {
      "name": "python"
    }
  },
  "cells": [
    {
      "cell_type": "markdown",
      "metadata": {
        "id": "view-in-github",
        "colab_type": "text"
      },
      "source": [
        "<a href=\"https://colab.research.google.com/github/vinosraj/codingdojo-exercise/blob/main/Numpy_exercise2.ipynb\" target=\"_parent\"><img src=\"https://colab.research.google.com/assets/colab-badge.svg\" alt=\"Open In Colab\"/></a>"
      ]
    },
    {
      "cell_type": "code",
      "execution_count": 16,
      "metadata": {
        "colab": {
          "base_uri": "https://localhost:8080/"
        },
        "id": "teFfF1r-eq0W",
        "outputId": "65c68f23-a3eb-478a-d319-e81b61fd3f7e"
      },
      "outputs": [
        {
          "output_type": "stream",
          "name": "stdout",
          "text": [
            "[34 40 10]\n",
            "[1.75 0.5  5.  ]\n",
            "[ 2  1 10  7]\n",
            "[ 2.   1.  12.   7.   4.5  3.   4. ]\n",
            "[17 39  1  2  3 16  5]\n",
            "[34.  39.  12.  14.  13.5 48.  20. ]\n",
            "[34.  39.  12.  14.  13.5 48.  20. ]\n",
            "180.5\n",
            "[0 0 2 1 6 0 2]\n",
            "[ 2.   1.  12.   7.   4.5  3.   4. ]\n",
            "[1.   0.5  6.   3.5  2.25 1.5  2.  ]\n",
            "[ 0.   0.  12.   3.5 13.5  0.   4. ]\n",
            "213.5\n"
          ]
        }
      ],
      "source": [
        "#$2 for brownie, $1 for cookie $10 for a cake\n",
        "price = [2,1,10]\n",
        " \n",
        "#sold for above\n",
        "quantity_sold = [17,40,1]\n",
        "\n",
        "import numpy as np\n",
        "\n",
        "price_array = np.array(price)\n",
        "quantity_sold_array = np.array(quantity_sold)\n",
        "\n",
        "type(price_array)\n",
        "\n",
        "print(price_array * quantity_sold_array)\n",
        "\n",
        "#cost to make Brownie, Cookie and Cake\n",
        "cost_array = np.array([0.25,0.50,5.00]) \n",
        "\n",
        "profit_array = price_array - cost_array\n",
        "\n",
        "print(profit_array) \n",
        "\n",
        "#adding cost of pie $7 to price of items\n",
        "price_array = np.append(price_array,7)\n",
        "print(price_array)\n",
        "\n",
        "# adding fudge = $4.50, Cupcake =$3 , Banana bread =$4  Torte = $9\n",
        "price_array = np.append(price_array, [4.50,3,4,9])\n",
        "\n",
        "\n",
        "#delete price of torte from array\n",
        "\n",
        "price_array = np.delete(price_array,-1)\n",
        "\n",
        "#change price of cake from 10 to 12\n",
        "price_array[2] = 12\n",
        "\n",
        "print(price_array)\n",
        "\n",
        "#Update the  quantity_sold_array to include the sale of 2 pies,  3 trays of fudge, 16 cupcakes, and 5 loaves of banana bread. \n",
        "quantity_sold_array = np.append(quantity_sold_array, [2,3,16,5])\n",
        "\n",
        "\n",
        "# Cookie change  edit the quantity_sold_array from 40 to 39.  \n",
        "quantity_sold_array[1]=39\n",
        "print(quantity_sold_array)\n",
        "\n",
        "#Determine the amount of money collected from the sale of each item at the bake sale.  \n",
        "print(price_array * quantity_sold_array)\n",
        "\n",
        "amount_money_collected_array =(price_array * quantity_sold_array)\n",
        "print(amount_money_collected_array)\n",
        "print(np.sum(amount_money_collected_array))\n",
        "\n",
        "#a NumPy array \"quantity_leftover\" that includes the quantity of \n",
        "#each item remaining at the end of the sale: 2 cakes, 1 pie, 6 trays of fudge, 2 loaves of banana bread\n",
        "#brownie,cookie,cake,pie,fudge, cupcake, banana bread\n",
        "quantity_leftover_array = np.array([0,0,2,1,6,0,2])\n",
        "print(quantity_leftover_array)\n",
        "\n",
        "#sell the leftover items at half price \n",
        "clearance_price_array = price_array /2\n",
        "\n",
        "print(price_array)\n",
        "print(clearance_price_array)\n",
        "\n",
        "clearance_sale_array = quantity_leftover_array * clearance_price_array\n",
        "\n",
        "print(clearance_sale_array)\n",
        "\n",
        "#total sale from bake sale \n",
        "print(np.sum(clearance_sale_array)+np.sum(amount_money_collected_array))\n",
        "\n"
      ]
    }
  ]
}